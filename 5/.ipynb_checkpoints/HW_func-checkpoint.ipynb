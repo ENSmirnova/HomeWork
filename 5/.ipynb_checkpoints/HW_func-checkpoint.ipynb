{
 "cells": [
  {
   "cell_type": "code",
   "execution_count": 1,
   "metadata": {},
   "outputs": [],
   "source": [
    "documents = [\n",
    "{'type': 'passport', 'number': '2207 876234', 'name': 'Василий Гупкин'},\n",
    "{'type': 'invoice', 'number': '11-2', 'name': 'Геннадий Покемонов'},\n",
    "{'type': 'insurance', 'number': '10006', 'name': 'Аристарх Павлов'}\n",
    "]\n",
    "\n",
    "directories = {\n",
    "'1': ['2207 876234', '11-2'],\n",
    "'2': ['10006'],\n",
    "'3': []\n",
    "}"
   ]
  },
  {
   "cell_type": "code",
   "execution_count": null,
   "metadata": {},
   "outputs": [],
   "source": []
  },
  {
   "cell_type": "code",
   "execution_count": 41,
   "metadata": {},
   "outputs": [],
   "source": [
    "def find_name():\n",
    "    \"\"\"\n",
    "    Поиск имени владельца по номеру паспорта\n",
    "    \n",
    "    \"\"\"\n",
    "    pass_number = input(\"Введите номер паспорта>>> \")\n",
    "    name = ''\n",
    "    for i in documents:\n",
    "        if pass_number in i['number']:\n",
    "            name = i['name']\n",
    "    if name:\n",
    "        print(f'Владелец паспорта: {name}')\n",
    "    else:\n",
    "        print('Документ с таким номером в базе не обнаружен')"
   ]
  },
  {
   "cell_type": "code",
   "execution_count": 3,
   "metadata": {},
   "outputs": [],
   "source": [
    "def find_shelf(pass_number):\n",
    "    \"\"\"\n",
    "    Поиск полки хранения по номеру паспорта\n",
    "    \n",
    "    \"\"\"\n",
    "    shelf = 0\n",
    "    for key, val in directories.items():\n",
    "        if str(pass_number) in val:\n",
    "            shelf = key\n",
    "    return shelf"
   ]
  },
  {
   "cell_type": "code",
   "execution_count": 4,
   "metadata": {},
   "outputs": [],
   "source": [
    "def full_info():\n",
    "    \"\"\"\n",
    "    Вывод всей информации о документе и номер полки, на которой он хранится\n",
    "    \n",
    "    \"\"\"\n",
    "    for i in documents:\n",
    "        print(f\"№: {i['number']}, тип: {i['type']}, владелец: {i['name']}, полка хранения: {find_shelf(i['number'])}\")"
   ]
  },
  {
   "cell_type": "code",
   "execution_count": 5,
   "metadata": {},
   "outputs": [],
   "source": [
    "def add_shelf():\n",
    "    \"\"\"\n",
    "    Добавить новую полку.\n",
    "    \n",
    "    \"\"\"\n",
    "    shelf = input('Введите номер полки>>> ')\n",
    "    if str(shelf) not in directories.keys():\n",
    "        directories[str(shelf)] = []\n",
    "        print('Полка добавлена. Текущий перечень полок: '+', '.join(directories.keys()))\n",
    "    else:\n",
    "        print('Такая полка уже существует. Текущий перечень полок: '+', '.join(directories.keys()))   "
   ]
  },
  {
   "cell_type": "code",
   "execution_count": 6,
   "metadata": {},
   "outputs": [],
   "source": [
    "def del_shelf():\n",
    "    \"\"\"\n",
    "    Удалить полку, если на ней не хранится информация\n",
    "    \n",
    "    \"\"\"\n",
    "    shelf = input('Введите номер полки>>> ')\n",
    "    for key, val in directories.items():\n",
    "        if len(val) == 0 and str(shelf) == key:\n",
    "            del(directories[str(shelf)])\n",
    "            x = 1\n",
    "            break\n",
    "        elif len(val) != 0 and str(shelf) == key:\n",
    "            x = 2\n",
    "            break\n",
    "        else:\n",
    "            x = 3\n",
    "    return x"
   ]
  },
  {
   "cell_type": "code",
   "execution_count": 7,
   "metadata": {},
   "outputs": [],
   "source": [
    "def add_doc():\n",
    "    \"\"\"\n",
    "    Добавить новый документ и определить его на определенную полку для хранения\n",
    "    \n",
    "    \"\"\"\n",
    "    number = input('Введите номер документа>>> ')\n",
    "    type_doc = input('Введите тип документа>>> ')\n",
    "    name = input('Введите имя владельца>>> ')\n",
    "    shelf = input('Введите полку для хранения>>> ')\n",
    "    if str(shelf) not in directories.keys():\n",
    "        print(\"Такой полки не существует. Добавьте полку командой 'as'. Текущий список документов:\")\n",
    "        full_info()\n",
    "    else:\n",
    "        documents.append({'type': type_doc, 'number': number, 'name': name})\n",
    "        directories[str(shelf)].append(number)\n",
    "        print('Документ добавлен. Текущий список документов:')\n",
    "        full_info()\n",
    "    "
   ]
  },
  {
   "cell_type": "code",
   "execution_count": 8,
   "metadata": {},
   "outputs": [],
   "source": [
    "def delete():\n",
    "    \"\"\"\n",
    "    Удалить документ по номеру из базы документов и из хранилища\n",
    "    \n",
    "    \"\"\"\n",
    "    pass_number = input(\"Введите номер паспорта>>> \")\n",
    "    for i in documents:\n",
    "        if pass_number == i['number']:\n",
    "            documents.remove(i)\n",
    "            for val in directories.values():\n",
    "                if pass_number in val:\n",
    "                    val.remove(pass_number)\n",
    "            res = True\n",
    "        else:\n",
    "            res = False\n",
    "    if res: \n",
    "        print('Документ удален. \\nТекущий список документов:')\n",
    "        full_info()\n",
    "    else:\n",
    "        print('Документ не найден в базе. \\nТекущий список документов:')\n",
    "        full_info()    \n",
    "    "
   ]
  },
  {
   "cell_type": "code",
   "execution_count": 62,
   "metadata": {},
   "outputs": [],
   "source": [
    "def move_shelf():\n",
    "    \"\"\"\n",
    "    Переместить документ для хранения на другой полке\n",
    "    \n",
    "    \"\"\"\n",
    "    pass_number = input('Введите номер документа>>> ')\n",
    "    shelf = input('Введите номер полки>>> ')\n",
    "    if str(shelf) not in directories.keys():\n",
    "        print('Такой полки не существует. Текущий перечень полок: '+', '.join(directories.keys()))\n",
    "    else:\n",
    "        for key, val in directories.items():\n",
    "            if pass_number in val:\n",
    "                directories[key].remove(pass_number)\n",
    "                directories[str(shelf)].append(pass_number)\n",
    "                res = True\n",
    "                break\n",
    "            elif pass_number not in val:\n",
    "                res = False\n",
    "    if res:\n",
    "        print('Документ перемещен.\\nТекущий список документов:')\n",
    "        full_info()\n",
    "    else:\n",
    "        print('Документ не найден в базе.\\nТекущий список документов:')\n",
    "        full_info()"
   ]
  },
  {
   "cell_type": "code",
   "execution_count": 63,
   "metadata": {},
   "outputs": [],
   "source": [
    "def main():\n",
    "    command = input(\"Введите команду>>> \")\n",
    "    if command == 'p':\n",
    "        find_name()\n",
    "    elif command == 's':\n",
    "        pass_number = input(\"Введите номер паспорта>>> \")\n",
    "        if find_shelf(pass_number) == 0:\n",
    "            print('Документ с таким номером в базе не обнаружен')\n",
    "        else:\n",
    "            print(f'Документ обнаружен на {find_shelf(pass_number)} полке')\n",
    "    elif command == 'l':\n",
    "        full_info()\n",
    "    elif command == 'as':\n",
    "        add_shelf()\n",
    "    elif command == 'ds':\n",
    "        x = del_shelf()\n",
    "        if x == 1:\n",
    "            print('Полка удалена. Текущий перечень полок: '+', '.join(directories.keys()))\n",
    "        elif x == 2:\n",
    "            print('На полке есть документа, удалите их перед удалением полки. Текущий перечень полок: '+', '.join(directories.keys()))\n",
    "        elif x == 3:\n",
    "            print('Такая полка не существует. Текущий перечень полок: '+', '.join(directories.keys()))   \n",
    "    elif command == 'ad':\n",
    "        add_doc()\n",
    "    elif command == 'd':\n",
    "        delete()        \n",
    "    elif command == 'm':\n",
    "        move_shelf()\n",
    "    else:\n",
    "        print('Неизвестная комманда')"
   ]
  },
  {
   "cell_type": "code",
   "execution_count": 64,
   "metadata": {},
   "outputs": [
    {
     "name": "stdout",
     "output_type": "stream",
     "text": [
      "Введите команду>>> m\n",
      "Введите номер документа>>> 11-2\n",
      "Введите номер полки>>> 2\n",
      "Документ перемещен.\n",
      "Текущий список документов:\n",
      "№: 2207 876234, тип: passport, владелец: Василий Гупкин, полка хранения: 1\n",
      "№: 11-2, тип: invoice, владелец: Геннадий Покемонов, полка хранения: 2\n",
      "№: 10006, тип: insurance, владелец: Аристарх Павлов, полка хранения: 1\n"
     ]
    }
   ],
   "source": [
    "main()"
   ]
  },
  {
   "cell_type": "code",
   "execution_count": null,
   "metadata": {},
   "outputs": [],
   "source": []
  },
  {
   "cell_type": "code",
   "execution_count": 36,
   "metadata": {},
   "outputs": [],
   "source": []
  },
  {
   "cell_type": "code",
   "execution_count": null,
   "metadata": {},
   "outputs": [],
   "source": []
  },
  {
   "cell_type": "code",
   "execution_count": null,
   "metadata": {},
   "outputs": [],
   "source": []
  },
  {
   "cell_type": "code",
   "execution_count": null,
   "metadata": {},
   "outputs": [],
   "source": []
  },
  {
   "cell_type": "code",
   "execution_count": null,
   "metadata": {},
   "outputs": [],
   "source": []
  }
 ],
 "metadata": {
  "kernelspec": {
   "display_name": "Python 3",
   "language": "python",
   "name": "python3"
  },
  "language_info": {
   "codemirror_mode": {
    "name": "ipython",
    "version": 3
   },
   "file_extension": ".py",
   "mimetype": "text/x-python",
   "name": "python",
   "nbconvert_exporter": "python",
   "pygments_lexer": "ipython3",
   "version": "3.8.5"
  }
 },
 "nbformat": 4,
 "nbformat_minor": 4
}

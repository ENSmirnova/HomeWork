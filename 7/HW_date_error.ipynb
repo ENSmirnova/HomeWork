{
 "cells": [
  {
   "cell_type": "markdown",
   "metadata": {},
   "source": [
    "### Задание 1"
   ]
  },
  {
   "cell_type": "code",
   "execution_count": 11,
   "metadata": {},
   "outputs": [
    {
     "data": {
      "text/plain": [
       "(datetime.datetime(2002, 10, 2, 0, 0),\n",
       " datetime.datetime(2013, 10, 11, 0, 0),\n",
       " datetime.datetime(1977, 8, 18, 0, 0))"
      ]
     },
     "execution_count": 11,
     "metadata": {},
     "output_type": "execute_result"
    }
   ],
   "source": [
    "# The Moscow Times - Wednesday, October 2, 2002\n",
    "# The Guardian - Friday, 11.10.13\n",
    "# Daily News - Thursday, 18 August 1977\n",
    "\n",
    "from datetime import datetime\n",
    "\n",
    "date_TMT = 'Wednesday, October 2, 2002'\n",
    "date_TG = 'Friday, 11.10.13'\n",
    "date_DN = 'Thursday, 18 August 1977'\n",
    "\n",
    "datetime_TMT = datetime.strptime(date_TMT, '%A, %B %d, %Y' )\n",
    "datetime_TG = datetime.strptime(date_TG, '%A, %d.%m.%y')\n",
    "datetime_DN = datetime.strptime(date_DN, '%A, %d %B %Y')\n",
    "datetime_TMT, datetime_TG, datetime_DN"
   ]
  },
  {
   "cell_type": "markdown",
   "metadata": {},
   "source": [
    "### Задание 2"
   ]
  },
  {
   "cell_type": "code",
   "execution_count": 18,
   "metadata": {},
   "outputs": [
    {
     "name": "stdout",
     "output_type": "stream",
     "text": [
      "True\n",
      "False\n",
      "False\n"
     ]
    }
   ],
   "source": [
    "stream = ['2018-04-02', '2018-02-29', '2018-19-02']\n",
    "\n",
    "from datetime import datetime\n",
    "\n",
    "for i in stream:\n",
    "    try:\n",
    "        date = datetime.strptime(i, '%Y-%m-%d')\n",
    "        print(True)\n",
    "    except:\n",
    "        print(False)"
   ]
  },
  {
   "cell_type": "markdown",
   "metadata": {},
   "source": [
    "### Задание 3"
   ]
  },
  {
   "cell_type": "code",
   "execution_count": 44,
   "metadata": {},
   "outputs": [],
   "source": [
    "from datetime import datetime\n",
    "from datetime import timedelta\n",
    "\n",
    "def date_range(start_date, end_date):\n",
    "    empty_list = []\n",
    "    try:\n",
    "        sd_datetime = datetime.strptime(start_date, '%Y-%m-%d')\n",
    "        ed_datetime = datetime.strptime(end_date, '%Y-%m-%d')\n",
    "        cnt_datetime = sd_datetime\n",
    "        while cnt_datetime <= ed_datetime:\n",
    "            print(cnt_datetime.strftime('%Y-%m-%d'))\n",
    "            cnt_datetime += timedelta(days=1)\n",
    "    except:\n",
    "        return empty_list"
   ]
  },
  {
   "cell_type": "code",
   "execution_count": 48,
   "metadata": {},
   "outputs": [
    {
     "name": "stdout",
     "output_type": "stream",
     "text": [
      "2000-01-13\n",
      "2000-01-14\n",
      "2000-01-15\n",
      "2000-01-16\n",
      "2000-01-17\n",
      "2000-01-18\n"
     ]
    }
   ],
   "source": [
    "date_range('2000-01-13', '2000-01-18')"
   ]
  },
  {
   "cell_type": "markdown",
   "metadata": {},
   "source": [
    "### Задание 4"
   ]
  },
  {
   "cell_type": "code",
   "execution_count": 51,
   "metadata": {},
   "outputs": [
    {
     "data": {
      "text/plain": [
       "'A101'"
      ]
     },
     "execution_count": 51,
     "metadata": {},
     "output_type": "execute_result"
    }
   ],
   "source": [
    "DEFAULT_USER_COUNT = 3\n",
    "\n",
    "def delete_and_return_last_user(default_list=['A100', 'A101', 'A102']):\n",
    "\n",
    "    element_to_delete = default_list[-1]\n",
    "    default_list.remove(element_to_delete)\n",
    "    return default_list[DEFAULT_USER_COUNT-2]\n",
    "\n",
    "delete_and_return_last_user()\n",
    "#delete_and_return_last_user()\n",
    "\n"
   ]
  },
  {
   "cell_type": "code",
   "execution_count": null,
   "metadata": {},
   "outputs": [],
   "source": [
    "\"\"\"\n",
    "Ошибка: list index out of range - сообщает о том, что элемента с таким индексом в массиве данных нет. \n",
    "При первом \"проходе\" программа возвращает значение \"1\"-ого элемента, поскольку нумерация списка идет\n",
    "с нуля, то получается нужное \"коллеге\" решение. При повторном запуске, длина массива default_list \n",
    "уже меньше на 1 (равна 2), и мы удаляем последний элемент, имеющий индекс 1, остается массив с \n",
    "единственным элементом, который имеет индекс 0. Итого: элемента default_list[1] при повторном \n",
    "запуске в результате повторного действия функции просто не существует.\n",
    "\n",
    "\"\"\""
   ]
  },
  {
   "cell_type": "code",
   "execution_count": null,
   "metadata": {},
   "outputs": [],
   "source": []
  },
  {
   "cell_type": "code",
   "execution_count": null,
   "metadata": {},
   "outputs": [],
   "source": []
  },
  {
   "cell_type": "code",
   "execution_count": null,
   "metadata": {},
   "outputs": [],
   "source": []
  },
  {
   "cell_type": "markdown",
   "metadata": {},
   "source": []
  },
  {
   "cell_type": "code",
   "execution_count": null,
   "metadata": {},
   "outputs": [],
   "source": []
  },
  {
   "cell_type": "code",
   "execution_count": null,
   "metadata": {},
   "outputs": [],
   "source": []
  },
  {
   "cell_type": "code",
   "execution_count": null,
   "metadata": {},
   "outputs": [],
   "source": []
  },
  {
   "cell_type": "code",
   "execution_count": null,
   "metadata": {},
   "outputs": [],
   "source": []
  }
 ],
 "metadata": {
  "kernelspec": {
   "display_name": "Python 3",
   "language": "python",
   "name": "python3"
  },
  "language_info": {
   "codemirror_mode": {
    "name": "ipython",
    "version": 3
   },
   "file_extension": ".py",
   "mimetype": "text/x-python",
   "name": "python",
   "nbconvert_exporter": "python",
   "pygments_lexer": "ipython3",
   "version": "3.8.5"
  }
 },
 "nbformat": 4,
 "nbformat_minor": 4
}

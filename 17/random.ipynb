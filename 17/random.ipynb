{
 "cells": [
  {
   "cell_type": "code",
   "execution_count": 1,
   "metadata": {},
   "outputs": [],
   "source": [
    "import numpy as np"
   ]
  },
  {
   "cell_type": "code",
   "execution_count": null,
   "metadata": {},
   "outputs": [],
   "source": []
  },
  {
   "cell_type": "code",
   "execution_count": 5,
   "metadata": {},
   "outputs": [
    {
     "name": "stdout",
     "output_type": "stream",
     "text": [
      "количество успехов  2043425 \n",
      "количество попыток  10000000 \n",
      "вероятность выигрыша  20.434250000000002 \n",
      "средний выигрыш  -0.199037\n"
     ]
    }
   ],
   "source": [
    "trials = 10000000    # Количество попыток \n",
    "fee = 1          # Взнос за 1 игру\n",
    "award_max = 0\n",
    "successes = 0    # Количество положительного результата (остался не в минусе)\n",
    "\n",
    "for i in range(trials):\n",
    "    random_score = np.random.randint(0, 1000)    # Случайное число от 0 до 999\n",
    "    if random_score == 777:\n",
    "        award = 200 - fee\n",
    "    elif random_score == 999:\n",
    "        award = 100 - fee\n",
    "    elif random_score == 555:\n",
    "        award = 50 - fee\n",
    "    elif random_score == 333:\n",
    "        award = 15 - fee\n",
    "    elif random_score == 111:\n",
    "        award = 10 - fee\n",
    "    elif random_score != 777 and (random_score - 77) % 100 == 0:\n",
    "        award = 5 - fee\n",
    "    elif random_score != 777 and (random_score - 77) % 100 != 0 and (random_score - 7) % 10 == 0:\n",
    "        award = 3 - fee\n",
    "    elif random_score % 100 == 0:\n",
    "        award = 2 - fee\n",
    "    elif random_score % 10 == 0:\n",
    "        award = 1 - fee\n",
    "    else:\n",
    "        award = 0 - fee\n",
    "    if award >= 0:\n",
    "        successes += 1\n",
    "    award_max += award\n",
    "\n",
    "p_monte_carlo = successes / trials    # Вероятность из моделирования       \n",
    "\n",
    "print('количество успехов ', successes, '\\nколичество попыток ', trials, '\\nвероятность выигрыша ', p_monte_carlo*100,\n",
    "     '\\nсредний выигрыш ', award_max/trials)"
   ]
  },
  {
   "cell_type": "code",
   "execution_count": null,
   "metadata": {},
   "outputs": [],
   "source": []
  },
  {
   "cell_type": "code",
   "execution_count": null,
   "metadata": {},
   "outputs": [],
   "source": []
  },
  {
   "cell_type": "code",
   "execution_count": null,
   "metadata": {},
   "outputs": [],
   "source": []
  }
 ],
 "metadata": {
  "kernelspec": {
   "display_name": "Python 3",
   "language": "python",
   "name": "python3"
  },
  "language_info": {
   "codemirror_mode": {
    "name": "ipython",
    "version": 3
   },
   "file_extension": ".py",
   "mimetype": "text/x-python",
   "name": "python",
   "nbconvert_exporter": "python",
   "pygments_lexer": "ipython3",
   "version": "3.8.5"
  }
 },
 "nbformat": 4,
 "nbformat_minor": 4
}

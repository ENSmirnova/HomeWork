{
 "cells": [
  {
   "cell_type": "markdown",
   "metadata": {},
   "source": [
    "ЗАДАНИЕ № 1"
   ]
  },
  {
   "cell_type": "code",
   "execution_count": 88,
   "metadata": {
    "scrolled": true
   },
   "outputs": [
    {
     "name": "stdout",
     "output_type": "stream",
     "text": [
      "Введите слово:  орпмрпмболи\n",
      "п\n"
     ]
    }
   ],
   "source": [
    "word = str(input(\"Введите слово:  \"))\n",
    "lenght = len(word)                                                # считаем длину слова\n",
    "if lenght % 2 == 0:                                               # если остаток от деления равен 0\n",
    "    print(word[lenght // 2 - 1],word[lenght // 2])                # выписываем два элемента из середины\n",
    "elif (lenght % 2 == 1):                                           # если остаток равен 1\n",
    "    print(word[lenght // 2])                                      # то среднее"
   ]
  },
  {
   "cell_type": "code",
   "execution_count": null,
   "metadata": {},
   "outputs": [],
   "source": [
    "ЗАДАНИЕ № 2"
   ]
  },
  {
   "cell_type": "code",
   "execution_count": 83,
   "metadata": {},
   "outputs": [
    {
     "name": "stdout",
     "output_type": "stream",
     "text": [
      "Введите число: 6\n",
      "Введите число: 8\n",
      "Введите число: 5\n",
      "Введите число: 0\n",
      "Сумма всех введенных элементов равна  19\n"
     ]
    }
   ],
   "source": [
    "amount = 0\n",
    "numb = int(input('Введите число: '))\n",
    "while numb != 0:                                                # пока не встретится число 0\n",
    "    amount = numb + amount                                      # считаем сумму, прибавляя предыдущее значение\n",
    "    numb = int(input('Введите число: '))\n",
    "print ('Сумма всех введенных элементов равна ', amount)"
   ]
  },
  {
   "cell_type": "code",
   "execution_count": null,
   "metadata": {},
   "outputs": [],
   "source": [
    "ЗАДАНИЕ № 3"
   ]
  },
  {
   "cell_type": "code",
   "execution_count": 89,
   "metadata": {},
   "outputs": [
    {
     "name": "stdout",
     "output_type": "stream",
     "text": [
      "Alex  and  Emma\n",
      "Arthur  and  Kat\n",
      "Dan  and  Kira\n",
      "John  and  Liza\n",
      "Peter  and  Sara\n",
      "Richard  and  Trisha\n"
     ]
    }
   ],
   "source": [
    "boys = ['Peter', 'Alex', 'John', 'Arthur', 'Richard', 'Dan']\n",
    "girls = ['Kat', 'Liza', 'Kira', 'Emma', 'Trisha', 'Sara']\n",
    "i = 0\n",
    "if len(boys) == len(girls):                                                # если длина списка девочек и мальков равны\n",
    "    while i<len(boys):                                                     # пока перемещаемся по списку внутри\n",
    "        print(sorted(boys)[i], ' and ', sorted(girls)[i])                  # сортируем списки мальчиков и девочек\n",
    "        i = i + 1                                                          # и выводим пары с одинаковыми индексами\n",
    "elif len(boys) != len(girls):                                              # если нет - выводим предупреждение\n",
    "    print('Внимание, кто-то может остаться без пары!')"
   ]
  },
  {
   "cell_type": "code",
   "execution_count": null,
   "metadata": {},
   "outputs": [],
   "source": [
    "ЗАДАНИЕ № 4"
   ]
  },
  {
   "cell_type": "code",
   "execution_count": 85,
   "metadata": {},
   "outputs": [
    {
     "name": "stdout",
     "output_type": "stream",
     "text": [
      "Средняя температура в странах:\n",
      "Thailand  -  23.86\n",
      "Germany  -  13.8\n",
      "Russia  -  3.71\n",
      "Poland  -  12.0\n"
     ]
    }
   ],
   "source": [
    "countries_T = [\n",
    "['Thailand', [75.2, 77, 78.8, 73.4, 68, 75.2, 77]],\n",
    "['Germany', [57.2, 55.4, 59, 59, 53.6]],\n",
    "['Russia', [35.6, 37.4, 39.2, 41, 42.8, 39.2, 35.6]],\n",
    "['Poland', [50, 50, 53.6, 57.2, 55.4, 55.4]]\n",
    "]\n",
    "print('Средняя температура в странах:')\n",
    "for i in range(len(countries_T)):                                             # для всех индексов первого уровня внутри списка\n",
    "    T_avg = 0\n",
    "    for j in range(len(countries_T[i][1])):                                   # для всех индексов третьего уровня \n",
    "        T_avg = T_avg + countries_T[i][1][j] / len(countries_T[i][1])         # прибавляем значение температуры, перемещаясь по \"третьему уровню\"\n",
    "    T_C = (T_avg - 32) * 5 / 9                                                # считаем температуру в цельсиях\n",
    "    print (countries_T[i][0], ' - ' , round(T_C, 2) )"
   ]
  },
  {
   "cell_type": "code",
   "execution_count": null,
   "metadata": {},
   "outputs": [],
   "source": [
    "ЗАДАНИЕ № 5"
   ]
  },
  {
   "cell_type": "code",
   "execution_count": 86,
   "metadata": {},
   "outputs": [
    {
     "name": "stdout",
     "output_type": "stream",
     "text": [
      "Среднее количество просмотров на уникального пользователя  23.25\n"
     ]
    }
   ],
   "source": [
    "stream = [\n",
    "'2018-01-01,user1,3',\n",
    "'2018-01-07,user1,4',\n",
    "'2018-03-29,user1,1',\n",
    "'2018-04-04,user1,13',\n",
    "'2018-01-05,user2,7',\n",
    "'2018-06-14,user3,4',\n",
    "'2018-07-02,user3,10',\n",
    "'2018-03-21,user4,19',\n",
    "'2018-03-22,user4,4',\n",
    "'2018-04-22,user4,8',\n",
    "'2018-05-03,user4,9',\n",
    "'2018-05-11,user4,11',\n",
    "]\n",
    "amount = 0\n",
    "user_list = []\n",
    "for i in range(len(stream)):                               # для всех элементов внутри списка\n",
    "    stream[i] = stream[i].split(',')                       # разделяем на отдельные элементы ориентируясь на запятую\n",
    "for item in stream:                                        # для всех элементов внутри нового массива\n",
    "    user_list.append(item[1])                              # создаем список только из первых(вторых) элементов первого(второго) уровня\n",
    "    amount = amount + int(item[2])                         # считаем сумму прибавляя на каждой итерации значение второго (третьего) элемента первого (второго) уровня \n",
    "print('Среднее количество просмотров на уникального пользователя ', round(amount / len(set(user_list)), 2))\n",
    "                                                           # составляем список только из уникальных значений, считаем его длину, вычисляем среднее, округляем до второго знака"
   ]
  },
  {
   "cell_type": "code",
   "execution_count": 116,
   "metadata": {},
   "outputs": [
    {
     "name": "stdout",
     "output_type": "stream",
     "text": [
      "[['2018-01-01', 'user100', '150'], ['2018-01-07', 'user99', '205'], ['2018-03-29', 'user1001', '81']]\n",
      "Среднее количество просмотров на уникального пользователя  145.33\n"
     ]
    }
   ],
   "source": [
    "stream = [\n",
    "'2018-01-01,user100,150',\n",
    "'2018-01-07,user99,205',\n",
    "'2018-03-29,user1001,81'\n",
    "]\n",
    "amount = 0\n",
    "user_list = []\n",
    "for i in range(len(stream)):\n",
    "    stream[i] = stream[i].split(',')\n",
    "print(stream)\n",
    "for item in stream:\n",
    "    user_list.append(item[1])\n",
    "    amount = amount + int(item[2])\n",
    "print('Среднее количество просмотров на уникального пользователя ', round(amount / len(set(user_list)), 2))"
   ]
  },
  {
   "cell_type": "code",
   "execution_count": null,
   "metadata": {},
   "outputs": [],
   "source": [
    "ЗАДАНИЕ № 6"
   ]
  },
  {
   "cell_type": "code",
   "execution_count": 158,
   "metadata": {},
   "outputs": [
    {
     "name": "stdout",
     "output_type": "stream",
     "text": [
      "Введите числовой ряд: 4 5 6 3 7 4 5 6\n",
      "Числа, повторяющиеся более 1 раза:  4 5 6\n"
     ]
    }
   ],
   "source": [
    "from collections import Counter\n",
    "row = input('Введите числовой ряд: ')\n",
    "row = row.split(' ')\n",
    "calc = Counter(row)                                                #\n",
    "res = []\n",
    "for num, count in calc.items():                                    # для всех пар из числа и его количества\n",
    "    if count != 1:                                                 # берем только те, где количество не равно 1\n",
    "        res.append(num)                                            # на каждой итерации дополняем список\n",
    "print('Числа, повторяющиеся более 1 раза: ', *res)                 # * - записываем данные без скобок и запятых"
   ]
  },
  {
   "cell_type": "code",
   "execution_count": null,
   "metadata": {},
   "outputs": [],
   "source": []
  },
  {
   "cell_type": "code",
   "execution_count": null,
   "metadata": {},
   "outputs": [],
   "source": []
  },
  {
   "cell_type": "code",
   "execution_count": null,
   "metadata": {},
   "outputs": [],
   "source": []
  },
  {
   "cell_type": "code",
   "execution_count": null,
   "metadata": {},
   "outputs": [],
   "source": []
  }
 ],
 "metadata": {
  "kernelspec": {
   "display_name": "Python 3",
   "language": "python",
   "name": "python3"
  },
  "language_info": {
   "codemirror_mode": {
    "name": "ipython",
    "version": 3
   },
   "file_extension": ".py",
   "mimetype": "text/x-python",
   "name": "python",
   "nbconvert_exporter": "python",
   "pygments_lexer": "ipython3",
   "version": "3.8.5"
  }
 },
 "nbformat": 4,
 "nbformat_minor": 4
}

{
 "cells": [
  {
   "cell_type": "markdown",
   "metadata": {},
   "source": [
    "## Задание 1"
   ]
  },
  {
   "cell_type": "code",
   "execution_count": 9,
   "metadata": {},
   "outputs": [
    {
     "data": {
      "text/plain": [
       "{15, 35, 54, 98, 119, 213}"
      ]
     },
     "execution_count": 9,
     "metadata": {},
     "output_type": "execute_result"
    }
   ],
   "source": [
    "ids = {\n",
    "'user1': [213, 213, 213, 15, 213], \n",
    "'user2': [54, 54, 119, 119, 119],\n",
    "'user3': [213, 98, 98, 35]\n",
    "}\n",
    "marks = []\n",
    "for geo in ids.values():                              # путешествуем по второму уровню словаря\n",
    "    marks += geo\n",
    "set(marks)"
   ]
  },
  {
   "cell_type": "markdown",
   "metadata": {},
   "source": [
    "## Задание 2"
   ]
  },
  {
   "cell_type": "code",
   "execution_count": 37,
   "metadata": {},
   "outputs": [
    {
     "name": "stdout",
     "output_type": "stream",
     "text": [
      "Поисковых запросов, содержащих 3 слов(a):  45.45 %\n",
      "Поисковых запросов, содержащих 2 слов(a):  27.27 %\n",
      "Поисковых запросов, содержащих 4 слов(a):  18.18 %\n",
      "Поисковых запросов, содержащих 1 слов(a):  9.09 %\n"
     ]
    }
   ],
   "source": [
    "queries = [\n",
    "'смотреть сериалы онлайн',\n",
    "'новости спорта',\n",
    "'афиша кино',\n",
    "'курс доллара',\n",
    "'сериалы этим летом',\n",
    "'курс по питону',\n",
    "'сериалы про спорт',\n",
    "'проверим как работает еще',\n",
    "'вдруг сейчас все развалится',\n",
    "'опаньки',\n",
    "'ура что ли'\n",
    "]\n",
    "res = {}\n",
    "for request in queries:\n",
    "    words = request.split(' ')\n",
    "    sum = len(words)\n",
    "    if sum in res.keys():\n",
    "        res[sum] += 1\n",
    "    else:\n",
    "        res[sum] = 1\n",
    "for key, values in res.items():\n",
    "    print('Поисковых запросов, содержащих', key, 'слов(a): ', round(values * 100 / len(queries), 2), '%')"
   ]
  },
  {
   "cell_type": "markdown",
   "metadata": {},
   "source": [
    "## Задание 3"
   ]
  },
  {
   "cell_type": "code",
   "execution_count": 76,
   "metadata": {},
   "outputs": [
    {
     "data": {
      "text/plain": [
       "{'vk': {'revenue': 103, 'cost': 98, 'ROI:': 5.1},\n",
       " 'yandex': {'revenue': 179, 'cost': 153, 'ROI:': 16.99},\n",
       " 'facebook': {'revenue': 103, 'cost': 110, 'ROI:': -6.36},\n",
       " 'adwords': {'revenue': 35, 'cost': 34, 'ROI:': 2.94},\n",
       " 'twitter': {'revenue': 11, 'cost': 24, 'ROI:': -54.17}}"
      ]
     },
     "execution_count": 76,
     "metadata": {},
     "output_type": "execute_result"
    }
   ],
   "source": [
    "results = {\n",
    "'vk': {'revenue': 103, 'cost': 98},\n",
    "'yandex': {'revenue': 179, 'cost': 153},\n",
    "'facebook': {'revenue': 103, 'cost': 110},\n",
    "'adwords': {'revenue': 35, 'cost': 34},\n",
    "'twitter': {'revenue': 11, 'cost': 24},\n",
    "}\n",
    "val = []\n",
    "i ={}\n",
    "for name in results:\n",
    "    val = results.values()\n",
    "for i in val:\n",
    "    ROI = (int(i['revenue']) / int(i['cost']) - 1) * 100\n",
    "    i['ROI:'] = round(ROI, 2)\n",
    "results\n",
    "            \n"
   ]
  },
  {
   "cell_type": "markdown",
   "metadata": {},
   "source": [
    "## Задание 4"
   ]
  },
  {
   "cell_type": "code",
   "execution_count": 1,
   "metadata": {},
   "outputs": [
    {
     "name": "stdout",
     "output_type": "stream",
     "text": [
      "Максимальный объем продаж на рекламном канале: vk\n"
     ]
    }
   ],
   "source": [
    "stats = {'facebook': 55, 'yandex': 115, 'vk': 120, 'google': 99, 'email': 42, 'ok': 98}\n",
    "for name, sales_v in stats.items():\n",
    "    sales_v_max = max(stats.values())\n",
    "    if sales_v == sales_v_max:\n",
    "        print('Максимальный объем продаж на рекламном канале:', name)"
   ]
  },
  {
   "cell_type": "markdown",
   "metadata": {},
   "source": [
    "## Задание 5"
   ]
  },
  {
   "cell_type": "code",
   "execution_count": 124,
   "metadata": {},
   "outputs": [
    {
     "name": "stdout",
     "output_type": "stream",
     "text": [
      "{'2018-01-01': {'yandex': {'cpc': 100}}}\n"
     ]
    }
   ],
   "source": [
    "my_list = ['2018-01-01', 'yandex', 'cpc', 100]\n",
    "my_list1 = ['a', 'b', 'c', 'd', 'e', 'f']\n",
    "dictionary = my_list[-1]\n",
    "for key in reversed(my_list[:-1]):\n",
    "    dictionary = {key : dictionary}                  # выдуманный оператор, я не нашла такого нигде, просто наугад уже сочиняла все подряд. категорически отказывается работать dictionary[key] = dictionary. буду благодарна за любые пояснения по этому поводу, поскольку сочинительство это, конечно, прекрасно, но в другой раз может не сработать.  \n",
    "print(dictionary)\n"
   ]
  },
  {
   "cell_type": "markdown",
   "metadata": {},
   "source": [
    "## Задание 6 (не работает)"
   ]
  },
  {
   "cell_type": "code",
   "execution_count": 21,
   "metadata": {},
   "outputs": [
    {
     "name": "stdout",
     "output_type": "stream",
     "text": [
      "Введите количество порций >>> 3\n",
      "[7, 11] [2, 3, 5, 6, 7, 8, 9, 10, 11, 12, 13, 14, 15, 16]\n"
     ]
    }
   ],
   "source": [
    "cook_book = {\n",
    "'салат': [\n",
    "{'ingridient_name': 'сыр', 'quantity': 50, 'measure': 'гр'},\n",
    "{'ingridient_name': 'томаты', 'quantity': 2, 'measure': 'шт'},\n",
    "{'ingridient_name': 'огурцы', 'quantity': 20, 'measure': 'гр'},\n",
    "{'ingridient_name': 'маслины', 'quantity': 10, 'measure': 'гр'},\n",
    "{'ingridient_name': 'оливковое масло', 'quantity': 20, 'measure': 'мл'},\n",
    "{'ingridient_name': 'салат', 'quantity': 10, 'measure': 'гр'},\n",
    "{'ingridient_name': 'перец', 'quantity': 20, 'measure': 'гр'}\n",
    "],\n",
    "'пицца': [\n",
    "{'ingridient_name': 'сыр', 'quantity': 20, 'measure': 'гр'},\n",
    "{'ingridient_name': 'колбаса', 'quantity': 30, 'measure': 'гр'},\n",
    "{'ingridient_name': 'бекон', 'quantity': 30, 'measure': 'гр'},\n",
    "{'ingridient_name': 'оливки', 'quantity': 10, 'measure': 'гр'},\n",
    "{'ingridient_name': 'томаты', 'quantity': 20, 'measure': 'гр'},\n",
    "{'ingridient_name': 'тесто', 'quantity': 100, 'measure': 'гр'},\n",
    "],\n",
    "'лимонад': [\n",
    "{'ingridient_name': 'лимон', 'quantity': 1, 'measure': 'шт'},\n",
    "{'ingridient_name': 'вода', 'quantity': 200, 'measure': 'мл'},\n",
    "{'ingridient_name': 'сахар', 'quantity': 10, 'measure': 'гр'},\n",
    "{'ingridient_name': 'лайм', 'quantity': 20, 'measure': 'гр'},\n",
    "]\n",
    "}\n",
    "cook_book\n",
    "persons = input('Введите количество порций >>> ')\n",
    "#list_food = []\n",
    "Food = []\n",
    "Volume = []\n",
    "Gr = []\n",
    "for item in cook_book.values():\n",
    "    for i in item:\n",
    "        Food.append(i['ingridient_name'])\n",
    "        Volume.append(i['quantity'])\n",
    "        Gr.append(i['measure'])\n",
    "repeat_food = [index for index, values in enumerate(Food) if values in Food[:index]]\n",
    "repeat_gr = [index for index, values in enumerate(Gr) if values in Gr[:index]]\n",
    "\n",
    "#list_food +=item\n",
    "#purchase = [list_food[0]]\n",
    "#print(list_food)\n",
    "#for i, j in zip(list_food[1:], purchase):\n",
    "#for i in list_food[1:]:\n",
    "#    if i['ingridient_name'] in j['ingridient_name'] and i['measure'] in j['measure']:\n",
    "#        print('1')\n",
    "#        j.update(quantity = j['quantity'] + i['quantity'])\n",
    "#    else:\n",
    "#        print('2')\n",
    "#        purchase.append(i)\n",
    "print(repeat_food, repeat_gr)"
   ]
  },
  {
   "cell_type": "markdown",
   "metadata": {},
   "source": [
    "###    for line in item[1]:\n",
    "        meal, weight, gr = line\n",
    "        weight = weight * person\n",
    "        \n",
    "        print(meal, weight, gr)\n",
    "    \n",
    "    print('')"
   ]
  },
  {
   "cell_type": "code",
   "execution_count": null,
   "metadata": {},
   "outputs": [],
   "source": []
  }
 ],
 "metadata": {
  "kernelspec": {
   "display_name": "Python 3",
   "language": "python",
   "name": "python3"
  },
  "language_info": {
   "codemirror_mode": {
    "name": "ipython",
    "version": 3
   },
   "file_extension": ".py",
   "mimetype": "text/x-python",
   "name": "python",
   "nbconvert_exporter": "python",
   "pygments_lexer": "ipython3",
   "version": "3.8.5"
  }
 },
 "nbformat": 4,
 "nbformat_minor": 4
}

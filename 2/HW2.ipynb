{
 "cells": [
  {
   "cell_type": "code",
   "execution_count": 16,
   "metadata": {},
   "outputs": [
    {
     "name": "stdout",
     "output_type": "stream",
     "text": [
      "фраза2 длиннее фразы1\n"
     ]
    }
   ],
   "source": [
    "phrase_1='как же, блин, задрало всё'\n",
    "phrase_2='когда уже это все закончится'\n",
    "if len(phrase_1)>len(phrase_2):\n",
    "    print ('фраза1 длиннее фразы2')\n",
    "elif len(phrase_1)<len(phrase_2):\n",
    "    print ('фраза2 длиннее фразы1')\n",
    "else: \n",
    "    print('фразы равной длины')"
   ]
  },
  {
   "cell_type": "code",
   "execution_count": 17,
   "metadata": {},
   "outputs": [
    {
     "name": "stdout",
     "output_type": "stream",
     "text": [
      "фраза1 длиннее фразы2\n"
     ]
    }
   ],
   "source": [
    "phrase_1='Делать быстро это делать медленно и без остановки'\n",
    "phrase_2='далёкий путь начинается с близкого'\n",
    "if len(phrase_1)>len(phrase_2):\n",
    "    print ('фраза1 длиннее фразы2')\n",
    "elif len(phrase_1)<len(phrase_2):\n",
    "    print ('фраза2 длиннее фразы1')\n",
    "else: \n",
    "    print('фразы равной длины')"
   ]
  },
  {
   "cell_type": "code",
   "execution_count": 20,
   "metadata": {},
   "outputs": [
    {
     "name": "stdout",
     "output_type": "stream",
     "text": [
      "фразы равной длины\n"
     ]
    }
   ],
   "source": [
    "phrase_1='не сходи с ума, сходи лучше за вином'\n",
    "phrase_2='вино – это ответ. А в чем был вопрос'\n",
    "if len(phrase_1)>len(phrase_2):\n",
    "    print ('фраза1 длиннее фразы2')\n",
    "elif len(phrase_1)<len(phrase_2):\n",
    "    print ('фраза2 длиннее фразы1')\n",
    "else: \n",
    "    print('фразы равной длины')"
   ]
  },
  {
   "cell_type": "code",
   "execution_count": 27,
   "metadata": {},
   "outputs": [
    {
     "name": "stdout",
     "output_type": "stream",
     "text": [
      "Введите год:1999\n",
      "обычный год\n"
     ]
    }
   ],
   "source": [
    "# висоскосный год без остатка делится на 4, если год попадает на столетие, то на 400\n",
    "year=int(input('Введите год:'))\n",
    "if year%4!=0 or (year%100==0 and year%400!=0):\n",
    "    print ('обычный год')\n",
    "else:\n",
    "    print ('високосный год')\n",
    "    \n",
    "    "
   ]
  },
  {
   "cell_type": "code",
   "execution_count": 30,
   "metadata": {},
   "outputs": [
    {
     "name": "stdout",
     "output_type": "stream",
     "text": [
      "Введите день рождения:18\n",
      "Введите месяц рождения:9\n",
      "Ваш знак зодиака - Дева\n"
     ]
    }
   ],
   "source": [
    "date=int(input(\"Введите день рождения:\"))\n",
    "month=int(input(\"Введите месяц рождения:\"))\n",
    "if (date>=21 and date<=31 and month==3) or(date>=1 and date<=20 and month==4):\n",
    "    print(\"Ваш знак зодиака - Овен\")\n",
    "elif (date>=21 and date<=30 and month==4) or(date>=1 and date<=21 and month==5):\n",
    "    print(\"Ваш знак зодиака - Телец\")\n",
    "elif (date>=22 and date<=31 and month==5) or(date>=1 and date<=21 and month==6):\n",
    "    print(\"Ваш знак зодиака - Близнецы\")\n",
    "elif (date>=22 and date<=30 and month==6) or(date>=1 and date<=22 and month==7):\n",
    "    print(\"Ваш знак зодиака - Рак\")\n",
    "elif (date>=23 and date<=31 and month==7) or(date>=1 and date<=22 and month==8):\n",
    "    print(\"Ваш знак зодиака - Лев\")\n",
    "elif (date>=23 and date<=31 and month==8) or(date>=1 and date<=22 and month==9):\n",
    "    print(\"Ваш знак зодиака - Дева\")\n",
    "elif (date>=23 and date<=30 and month==9) or(date>=1 and date<=22 and month==10):\n",
    "    print(\"Ваш знак зодиака - Весы\")\n",
    "elif (date>=23 and date<=31 and month==10) or(date>=1 and date<=22 and month==11):\n",
    "    print(\"Ваш знак зодиака - Скорпион\")\n",
    "elif (date>=23 and date<=30 and month==11) or(date>=1 and date<=21 and month==12):\n",
    "    print(\"Ваш знак зодиака - Стрелец\")\n",
    "elif (date>=22 and date<=31 and month==12) or(date>=1 and date<=20 and month==1):\n",
    "    print(\"Ваш знак зодиака - Козерог\")\n",
    "elif (date>=21 and date<=31 and month==1) or(date>=1 and date<=19 and month==2):\n",
    "    print(\"Ваш знак зодиака - Водолей\")\n",
    "elif (date>=20 and date<=29 and month==2) or(date>=1 and date<=20 and month==3):\n",
    "    print(\"Ваш знак зодиака - Рыбы\")"
   ]
  },
  {
   "cell_type": "code",
   "execution_count": 39,
   "metadata": {},
   "outputs": [
    {
     "name": "stdout",
     "output_type": "stream",
     "text": [
      "Введите ширину56\n",
      "Введите длину76\n",
      "Введите высоту64\n",
      "Коробка №3\n"
     ]
    }
   ],
   "source": [
    "width = int(input(\"Введите ширину\"))\n",
    "length = int(input(\"Введите длину\"))\n",
    "height = int(input(\"Введите высоту\"))\n",
    "if width<15 and length<15 and height<15:\n",
    "    print ('Коробка №1')\n",
    "elif (width>=15 and width<50) or (length>=15 and length<50) or (height>=15 and height<50):\n",
    "    print ('Коробка №2')\n",
    "elif width>=200 or length>=200 or height>=200:\n",
    "    print ('Коробка для лыж')\n",
    "else:\n",
    "    print ('Коробка №3')"
   ]
  },
  {
   "cell_type": "code",
   "execution_count": 52,
   "metadata": {},
   "outputs": [
    {
     "name": "stdout",
     "output_type": "stream",
     "text": [
      "Введите шестизначный номер билета:123321\n",
      "Этот билет счастливый\n"
     ]
    }
   ],
   "source": [
    "ticket = int(input('Введите шестизначный номер билета:'))\n",
    "if (ticket//100000 + ticket//10000%10 + ticket//1000% 10 == ticket//100%10 + ticket//10%10 + ticket%10):\n",
    "    print (\"Этот билет счастливый\")\n",
    "else:\n",
    "    print (\"Этот билет обычный\")"
   ]
  },
  {
   "cell_type": "code",
   "execution_count": 1,
   "metadata": {},
   "outputs": [
    {
     "name": "stdout",
     "output_type": "stream",
     "text": [
      "Введите тип фигуры(доступные типы: круг, треугольник, прямоугольник):чебурашка\n",
      "Вы ввели неизвестный тип фигуры\n",
      "Площадь фигуры %ошибка%\n"
     ]
    }
   ],
   "source": [
    "import math\n",
    "type = str(input('Введите тип фигуры(доступные типы: круг, треугольник, прямоугольник):'))\n",
    "if type=='круг':\n",
    "    rad=int(input('Введите радиус круга'))\n",
    "    S=math.pi*rad**2\n",
    "elif type=='треугольник':\n",
    "    a=int(input('Введите длину стороны 1 '))\n",
    "    b=int(input('Введите длину стороны 2 '))\n",
    "    c=int(input('Введите длину стороны 3 '))\n",
    "    p=((a+b+c)/2)\n",
    "    S=math.sqrt(p*(p-a)*(p-b)*(p-c))\n",
    "elif type=='прямоугольник':\n",
    "    a=int(input('Введите длину стороны 1 '))\n",
    "    b=int(input('Введите длину стороны 2 '))\n",
    "    S=a*b\n",
    "else:\n",
    "    print('Вы ввели неизвестный тип фигуры')\n",
    "    S='%ошибка%'\n",
    "print ('Площадь фигуры', S)"
   ]
  },
  {
   "cell_type": "code",
   "execution_count": null,
   "metadata": {},
   "outputs": [],
   "source": []
  }
 ],
 "metadata": {
  "kernelspec": {
   "display_name": "Python 3",
   "language": "python",
   "name": "python3"
  },
  "language_info": {
   "codemirror_mode": {
    "name": "ipython",
    "version": 3
   },
   "file_extension": ".py",
   "mimetype": "text/x-python",
   "name": "python",
   "nbconvert_exporter": "python",
   "pygments_lexer": "ipython3",
   "version": "3.8.5"
  }
 },
 "nbformat": 4,
 "nbformat_minor": 4
}
